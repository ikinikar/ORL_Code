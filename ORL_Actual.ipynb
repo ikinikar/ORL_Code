{
  "nbformat": 4,
  "nbformat_minor": 0,
  "metadata": {
    "colab": {
      "provenance": [],
      "authorship_tag": "ABX9TyPPrQjvJLs+Cb3SXIaapT3L",
      "include_colab_link": true
    },
    "kernelspec": {
      "name": "python3",
      "display_name": "Python 3"
    },
    "language_info": {
      "name": "python"
    },
    "accelerator": "GPU"
  },
  "cells": [
    {
      "cell_type": "markdown",
      "metadata": {
        "id": "view-in-github",
        "colab_type": "text"
      },
      "source": [
        "<a href=\"https://colab.research.google.com/github/ikinikar/ORL_Code/blob/main/ORL_Actual.ipynb\" target=\"_parent\"><img src=\"https://colab.research.google.com/assets/colab-badge.svg\" alt=\"Open In Colab\"/></a>"
      ]
    },
    {
      "cell_type": "code",
      "metadata": {
        "id": "dBHc4imn2d15"
      },
      "source": [
        "# Imports/Set-Up\n",
        "from mpl_toolkits.mplot3d import Axes3D\n",
        "from sklearn.preprocessing import StandardScaler\n",
        "import matplotlib.pyplot as plt # plotting\n",
        "import tensorflow as tf\n",
        "from tensorflow.keras import datasets, layers, models\n",
        "from tensorflow.keras.utils import to_categorical\n",
        "from skimage import color\n",
        "from skimage import io\n",
        "from sklearn.model_selection import train_test_split\n",
        "from sklearn.metrics import mean_squared_error\n",
        "import numpy as np # linear algebra\n",
        "import os # accessing directory structure\n",
        "import pandas as pd # data processing, CSV file I/O (e.g. pd.read_csv)\n",
        "import random"
      ],
      "execution_count": 1,
      "outputs": []
    },
    {
      "cell_type": "code",
      "metadata": {
        "colab": {
          "base_uri": "https://localhost:8080/"
        },
        "id": "9TNMXugv_LMA",
        "outputId": "334e2888-d36f-4333-a3ed-b8b32d85fba0"
      },
      "source": [
        "#Mounting Google Drive\n",
        "from google.colab import drive\n",
        "drive.mount('/content/drive')"
      ],
      "execution_count": 2,
      "outputs": [
        {
          "output_type": "stream",
          "name": "stdout",
          "text": [
            "Mounted at /content/drive\n"
          ]
        }
      ]
    },
    {
      "cell_type": "code",
      "metadata": {
        "id": "S-NwZrCD2e_C",
        "colab": {
          "base_uri": "https://localhost:8080/"
        },
        "outputId": "c6c0a129-9631-4c31-82bb-cae2f7cbb714"
      },
      "source": [
        "#Set-Ups of What I will be doing a neural network for\n",
        "image_names = [] #Input names\n",
        "images = [] #Greyscale arrays of inputs\n",
        "person_numbers = [] #Outputs\n",
        "for dirname, _, filenames in os.walk('drive/MyDrive/kaggle/input/'):\n",
        "  for filename in filenames:\n",
        "      image_names.append(os.path.join(dirname, filename))\n",
        "      Dissected_Name_One = filename.split('_')\n",
        "      Dissected_Name_Two = Dissected_Name_One[1].split('.')\n",
        "      person_numbers.append(Dissected_Name_Two[0])\n",
        "\n",
        "\n",
        "\n",
        "for i in range(len(image_names)):\n",
        "  a = io.imread(image_names[i], as_gray = True)\n",
        "  images.append(a)\n",
        "\n",
        "images_array = np.array(images)\n",
        "images_array = np.expand_dims(images_array, -1)\n",
        "print(images_array.shape)\n",
        "\n",
        "people_array = np.array(person_numbers)\n",
        "print(people_array.shape)"
      ],
      "execution_count": 3,
      "outputs": [
        {
          "output_type": "stream",
          "name": "stdout",
          "text": [
            "(410, 80, 70, 1)\n",
            "(410,)\n"
          ]
        }
      ]
    },
    {
      "cell_type": "code",
      "source": [
        "\n",
        "#sorted_arr = []\n",
        "#persons_arr = []\n",
        "#x_train = []\n",
        "#y_train = []\n",
        "\n",
        "#for p in range(0, 10):\n",
        " # temp_arr = []\n",
        " # tarr_two = []\n",
        " # for w in range(len(person_numbers)):\n",
        "  #    temp_arr.append(images[w])\n",
        "   #   tarr_two.append(w)\n",
        " # sorted_arr.append(temp_arr)\n",
        " # persons_arr.append(tarr_two)\n",
        "#print(sorted_arr)\n",
        "#sorted_array = np.array(sorted_arr)\n",
        "#print(sorted.shape)\n",
        "#TO DO: CREATE PSEUDO RANDOM X AND Y DATASETS\n",
        "#Training set set-up\n",
        "#train_count = 0\n",
        "#for x in range(len(sorted_arr)):\n",
        "  #rand_list = random.sample(sorted_arr[x], 5)\n",
        "\n",
        "  #for y in rand_list:\n",
        "  #  train.append(sorted_arr[x][y])\n",
        "  #  y_train.append()\n",
        " # for y in rand_list:\n",
        "   # sorted_arr[x].pop(y)\n",
        "\n",
        "\n",
        "#TO DO: CREATE NEW IMAGES W IMAGE DISTORTION\n",
        "\n",
        "#sorted_array = np.array(sorted_arr)\n",
        "#print(sorted_array.shape)"
      ],
      "metadata": {
        "id": "eNltJAa8VK2x"
      },
      "execution_count": 4,
      "outputs": []
    },
    {
      "cell_type": "code",
      "metadata": {
        "id": "CxoXnwXdYo7W"
      },
      "source": [
        "#Set-Up of Training and Testing Data (Going to start with 50-50 split (roughly) but will modify as necessary)\n",
        "\n",
        "x, x_test, y, y_test = train_test_split(images_array, people_array, test_size = 11/41, shuffle = True) #Correct to 75-25 or 80-20 split -- done\n",
        "x_train, x_val, y_train, y_val = train_test_split(x, y, test_size = 10/30, shuffle = True)"
      ],
      "execution_count": 5,
      "outputs": []
    },
    {
      "cell_type": "code",
      "metadata": {
        "colab": {
          "base_uri": "https://localhost:8080/"
        },
        "id": "pMOaV6HekGFb",
        "outputId": "1b3a86cb-3e30-4717-f992-ba76956890ea"
      },
      "source": [
        "nb_classes = 42 # number of unique people + 1\n",
        "\n",
        "# One-hot encoding/re-sizing\n",
        "Y_train = to_categorical(y_train, nb_classes)\n",
        "Y_val = to_categorical(y_val, nb_classes)\n",
        "Y_test = to_categorical(y_test, nb_classes)\n",
        "\n",
        "print(\"Y_train shape\", np.array(Y_train).shape)\n",
        "print(\"Y_val shape\", np.array(Y_val).shape)\n",
        "print(\"Y_test shape\", np.array(Y_test).shape)"
      ],
      "execution_count": 6,
      "outputs": [
        {
          "output_type": "stream",
          "name": "stdout",
          "text": [
            "Y_train shape (200, 42)\n",
            "Y_val shape (100, 42)\n",
            "Y_test shape (110, 42)\n"
          ]
        }
      ]
    },
    {
      "cell_type": "code",
      "metadata": {
        "id": "IaDKZoSxnsp_"
      },
      "source": [
        "model = models.Sequential([\n",
        "         layers.Conv2D(16, (3,3), activation = 'relu', input_shape= (80, 70, 1)),\n",
        "         layers.MaxPooling2D(2,2),\n",
        "         layers.Conv2D(32, (3,3), activation = 'relu'),\n",
        "         layers.MaxPooling2D(2,2),\n",
        "         layers.Conv2D(64, (3,3), activation = 'relu'),\n",
        "         layers.MaxPooling2D(2,2),\n",
        "         layers.Flatten(),\n",
        "         layers.Dense(1024, activation = 'relu'),\n",
        "         layers.Dense(42, activation = 'softmax')\n",
        "])"
      ],
      "execution_count": 7,
      "outputs": []
    },
    {
      "cell_type": "code",
      "metadata": {
        "colab": {
          "base_uri": "https://localhost:8080/"
        },
        "id": "udFTnBqvp_Ed",
        "outputId": "40ff81ee-7840-4a5e-9d1e-82983e900d23"
      },
      "source": [
        "model.compile(loss = 'categorical_crossentropy', optimizer = 'adam', metrics = ['accuracy'])\n",
        "history = model.fit(x_train, Y_train, batch_size=56, epochs=100, validation_data = (x_val, Y_val)) #Fix validation data and use model.evaluate() to do the testing"
      ],
      "execution_count": 8,
      "outputs": [
        {
          "output_type": "stream",
          "name": "stdout",
          "text": [
            "Epoch 1/100\n",
            "4/4 [==============================] - 12s 200ms/step - loss: 81.5572 - accuracy: 0.0250 - val_loss: 69.3578 - val_accuracy: 0.0200\n",
            "Epoch 2/100\n",
            "4/4 [==============================] - 0s 21ms/step - loss: 41.9339 - accuracy: 0.0300 - val_loss: 18.6925 - val_accuracy: 0.0300\n",
            "Epoch 3/100\n",
            "4/4 [==============================] - 0s 17ms/step - loss: 9.4725 - accuracy: 0.1150 - val_loss: 4.6238 - val_accuracy: 0.1800\n",
            "Epoch 4/100\n",
            "4/4 [==============================] - 0s 18ms/step - loss: 3.3678 - accuracy: 0.3650 - val_loss: 2.9737 - val_accuracy: 0.2900\n",
            "Epoch 5/100\n",
            "4/4 [==============================] - 0s 17ms/step - loss: 2.1037 - accuracy: 0.5650 - val_loss: 2.2028 - val_accuracy: 0.4900\n",
            "Epoch 6/100\n",
            "4/4 [==============================] - 0s 22ms/step - loss: 0.9892 - accuracy: 0.8400 - val_loss: 1.4147 - val_accuracy: 0.6900\n",
            "Epoch 7/100\n",
            "4/4 [==============================] - 0s 18ms/step - loss: 0.4053 - accuracy: 0.9450 - val_loss: 1.0274 - val_accuracy: 0.7400\n",
            "Epoch 8/100\n",
            "4/4 [==============================] - 0s 21ms/step - loss: 0.1926 - accuracy: 0.9850 - val_loss: 0.7987 - val_accuracy: 0.8400\n",
            "Epoch 9/100\n",
            "4/4 [==============================] - 0s 19ms/step - loss: 0.1259 - accuracy: 1.0000 - val_loss: 0.9763 - val_accuracy: 0.7500\n",
            "Epoch 10/100\n",
            "4/4 [==============================] - 0s 20ms/step - loss: 0.1581 - accuracy: 0.9750 - val_loss: 0.9511 - val_accuracy: 0.8200\n",
            "Epoch 11/100\n",
            "4/4 [==============================] - 0s 21ms/step - loss: 0.1155 - accuracy: 0.9950 - val_loss: 1.0000 - val_accuracy: 0.8400\n",
            "Epoch 12/100\n",
            "4/4 [==============================] - 0s 19ms/step - loss: 0.1047 - accuracy: 1.0000 - val_loss: 1.0259 - val_accuracy: 0.8200\n",
            "Epoch 13/100\n",
            "4/4 [==============================] - 0s 17ms/step - loss: 0.0879 - accuracy: 1.0000 - val_loss: 1.1222 - val_accuracy: 0.7800\n",
            "Epoch 14/100\n",
            "4/4 [==============================] - 0s 19ms/step - loss: 0.0760 - accuracy: 1.0000 - val_loss: 0.9792 - val_accuracy: 0.7500\n",
            "Epoch 15/100\n",
            "4/4 [==============================] - 0s 18ms/step - loss: 0.0501 - accuracy: 1.0000 - val_loss: 0.9669 - val_accuracy: 0.7900\n",
            "Epoch 16/100\n",
            "4/4 [==============================] - 0s 24ms/step - loss: 0.6068 - accuracy: 0.9800 - val_loss: 1.7777 - val_accuracy: 0.7100\n",
            "Epoch 17/100\n",
            "4/4 [==============================] - 0s 18ms/step - loss: 0.2520 - accuracy: 0.9300 - val_loss: 2.1906 - val_accuracy: 0.6400\n",
            "Epoch 18/100\n",
            "4/4 [==============================] - 0s 23ms/step - loss: 0.2736 - accuracy: 0.9350 - val_loss: 1.1007 - val_accuracy: 0.6900\n",
            "Epoch 19/100\n",
            "4/4 [==============================] - 0s 23ms/step - loss: 0.1700 - accuracy: 0.9800 - val_loss: 0.7595 - val_accuracy: 0.7900\n",
            "Epoch 20/100\n",
            "4/4 [==============================] - 0s 24ms/step - loss: 0.1193 - accuracy: 0.9950 - val_loss: 0.7230 - val_accuracy: 0.8100\n",
            "Epoch 21/100\n",
            "4/4 [==============================] - 0s 19ms/step - loss: 0.0740 - accuracy: 0.9950 - val_loss: 0.5455 - val_accuracy: 0.8500\n",
            "Epoch 22/100\n",
            "4/4 [==============================] - 0s 22ms/step - loss: 0.0369 - accuracy: 0.9950 - val_loss: 0.5839 - val_accuracy: 0.8400\n",
            "Epoch 23/100\n",
            "4/4 [==============================] - 0s 22ms/step - loss: 0.0161 - accuracy: 1.0000 - val_loss: 0.7022 - val_accuracy: 0.8100\n",
            "Epoch 24/100\n",
            "4/4 [==============================] - 0s 22ms/step - loss: 0.0067 - accuracy: 1.0000 - val_loss: 0.7384 - val_accuracy: 0.8300\n",
            "Epoch 25/100\n",
            "4/4 [==============================] - 0s 20ms/step - loss: 0.0025 - accuracy: 1.0000 - val_loss: 0.6894 - val_accuracy: 0.8500\n",
            "Epoch 26/100\n",
            "4/4 [==============================] - 0s 23ms/step - loss: 0.0012 - accuracy: 1.0000 - val_loss: 0.6520 - val_accuracy: 0.8600\n",
            "Epoch 27/100\n",
            "4/4 [==============================] - 0s 19ms/step - loss: 6.7797e-04 - accuracy: 1.0000 - val_loss: 0.6301 - val_accuracy: 0.8800\n",
            "Epoch 28/100\n",
            "4/4 [==============================] - 0s 19ms/step - loss: 4.6272e-04 - accuracy: 1.0000 - val_loss: 0.6213 - val_accuracy: 0.8900\n",
            "Epoch 29/100\n",
            "4/4 [==============================] - 0s 23ms/step - loss: 2.8787e-04 - accuracy: 1.0000 - val_loss: 0.6177 - val_accuracy: 0.9000\n",
            "Epoch 30/100\n",
            "4/4 [==============================] - 0s 23ms/step - loss: 1.9881e-04 - accuracy: 1.0000 - val_loss: 0.6171 - val_accuracy: 0.9100\n",
            "Epoch 31/100\n",
            "4/4 [==============================] - 0s 20ms/step - loss: 1.5213e-04 - accuracy: 1.0000 - val_loss: 0.6194 - val_accuracy: 0.9100\n",
            "Epoch 32/100\n",
            "4/4 [==============================] - 0s 22ms/step - loss: 1.1651e-04 - accuracy: 1.0000 - val_loss: 0.6220 - val_accuracy: 0.9100\n",
            "Epoch 33/100\n",
            "4/4 [==============================] - 0s 18ms/step - loss: 9.6158e-05 - accuracy: 1.0000 - val_loss: 0.6250 - val_accuracy: 0.9100\n",
            "Epoch 34/100\n",
            "4/4 [==============================] - 0s 19ms/step - loss: 8.0455e-05 - accuracy: 1.0000 - val_loss: 0.6280 - val_accuracy: 0.9100\n",
            "Epoch 35/100\n",
            "4/4 [==============================] - 0s 20ms/step - loss: 6.7367e-05 - accuracy: 1.0000 - val_loss: 0.6319 - val_accuracy: 0.9100\n",
            "Epoch 36/100\n",
            "4/4 [==============================] - 0s 23ms/step - loss: 5.8189e-05 - accuracy: 1.0000 - val_loss: 0.6426 - val_accuracy: 0.9100\n",
            "Epoch 37/100\n",
            "4/4 [==============================] - 0s 18ms/step - loss: 4.9308e-05 - accuracy: 1.0000 - val_loss: 0.6365 - val_accuracy: 0.9100\n",
            "Epoch 38/100\n",
            "4/4 [==============================] - 0s 18ms/step - loss: 4.2020e-05 - accuracy: 1.0000 - val_loss: 0.6397 - val_accuracy: 0.9100\n",
            "Epoch 39/100\n",
            "4/4 [==============================] - 0s 18ms/step - loss: 3.5415e-05 - accuracy: 1.0000 - val_loss: 0.6551 - val_accuracy: 0.9100\n",
            "Epoch 40/100\n",
            "4/4 [==============================] - 0s 17ms/step - loss: 2.8845e-05 - accuracy: 1.0000 - val_loss: 0.6768 - val_accuracy: 0.9000\n",
            "Epoch 41/100\n",
            "4/4 [==============================] - 0s 19ms/step - loss: 2.3858e-05 - accuracy: 1.0000 - val_loss: 0.6722 - val_accuracy: 0.9000\n",
            "Epoch 42/100\n",
            "4/4 [==============================] - 0s 22ms/step - loss: 2.0487e-05 - accuracy: 1.0000 - val_loss: 0.6763 - val_accuracy: 0.9000\n",
            "Epoch 43/100\n",
            "4/4 [==============================] - 0s 23ms/step - loss: 1.7149e-05 - accuracy: 1.0000 - val_loss: 0.7102 - val_accuracy: 0.9000\n",
            "Epoch 44/100\n",
            "4/4 [==============================] - 0s 21ms/step - loss: 1.3130e-05 - accuracy: 1.0000 - val_loss: 0.7245 - val_accuracy: 0.9000\n",
            "Epoch 45/100\n",
            "4/4 [==============================] - 0s 20ms/step - loss: 1.1222e-05 - accuracy: 1.0000 - val_loss: 0.7294 - val_accuracy: 0.9000\n",
            "Epoch 46/100\n",
            "4/4 [==============================] - 0s 20ms/step - loss: 9.3738e-06 - accuracy: 1.0000 - val_loss: 0.7385 - val_accuracy: 0.9000\n",
            "Epoch 47/100\n",
            "4/4 [==============================] - 0s 22ms/step - loss: 7.8968e-06 - accuracy: 1.0000 - val_loss: 0.7587 - val_accuracy: 0.8900\n",
            "Epoch 48/100\n",
            "4/4 [==============================] - 0s 24ms/step - loss: 7.0034e-06 - accuracy: 1.0000 - val_loss: 0.7810 - val_accuracy: 0.8800\n",
            "Epoch 49/100\n",
            "4/4 [==============================] - 0s 25ms/step - loss: 6.2315e-06 - accuracy: 1.0000 - val_loss: 0.7783 - val_accuracy: 0.8900\n",
            "Epoch 50/100\n",
            "4/4 [==============================] - 0s 25ms/step - loss: 5.5992e-06 - accuracy: 1.0000 - val_loss: 0.7613 - val_accuracy: 0.8900\n",
            "Epoch 51/100\n",
            "4/4 [==============================] - 0s 24ms/step - loss: 5.3226e-06 - accuracy: 1.0000 - val_loss: 0.7755 - val_accuracy: 0.8900\n",
            "Epoch 52/100\n",
            "4/4 [==============================] - 0s 26ms/step - loss: 4.5508e-06 - accuracy: 1.0000 - val_loss: 0.8253 - val_accuracy: 0.8700\n",
            "Epoch 53/100\n",
            "4/4 [==============================] - 0s 23ms/step - loss: 4.2807e-06 - accuracy: 1.0000 - val_loss: 0.8379 - val_accuracy: 0.8700\n",
            "Epoch 54/100\n",
            "4/4 [==============================] - 0s 22ms/step - loss: 3.9303e-06 - accuracy: 1.0000 - val_loss: 0.8151 - val_accuracy: 0.8700\n",
            "Epoch 55/100\n",
            "4/4 [==============================] - 0s 39ms/step - loss: 3.4821e-06 - accuracy: 1.0000 - val_loss: 0.8143 - val_accuracy: 0.8700\n",
            "Epoch 56/100\n",
            "4/4 [==============================] - 0s 31ms/step - loss: 3.2294e-06 - accuracy: 1.0000 - val_loss: 0.8344 - val_accuracy: 0.8700\n",
            "Epoch 57/100\n",
            "4/4 [==============================] - 0s 23ms/step - loss: 2.9778e-06 - accuracy: 1.0000 - val_loss: 0.8417 - val_accuracy: 0.8700\n",
            "Epoch 58/100\n",
            "4/4 [==============================] - 0s 24ms/step - loss: 2.7334e-06 - accuracy: 1.0000 - val_loss: 0.8337 - val_accuracy: 0.8700\n",
            "Epoch 59/100\n",
            "4/4 [==============================] - 0s 26ms/step - loss: 2.5368e-06 - accuracy: 1.0000 - val_loss: 0.8308 - val_accuracy: 0.8700\n",
            "Epoch 60/100\n",
            "4/4 [==============================] - 0s 27ms/step - loss: 2.3794e-06 - accuracy: 1.0000 - val_loss: 0.8363 - val_accuracy: 0.8700\n",
            "Epoch 61/100\n",
            "4/4 [==============================] - 0s 25ms/step - loss: 2.2274e-06 - accuracy: 1.0000 - val_loss: 0.8384 - val_accuracy: 0.8700\n",
            "Epoch 62/100\n",
            "4/4 [==============================] - 0s 25ms/step - loss: 2.1016e-06 - accuracy: 1.0000 - val_loss: 0.8374 - val_accuracy: 0.8700\n",
            "Epoch 63/100\n",
            "4/4 [==============================] - 0s 25ms/step - loss: 1.9973e-06 - accuracy: 1.0000 - val_loss: 0.8445 - val_accuracy: 0.8700\n",
            "Epoch 64/100\n",
            "4/4 [==============================] - 0s 27ms/step - loss: 1.8823e-06 - accuracy: 1.0000 - val_loss: 0.8431 - val_accuracy: 0.8800\n",
            "Epoch 65/100\n",
            "4/4 [==============================] - 0s 27ms/step - loss: 1.7816e-06 - accuracy: 1.0000 - val_loss: 0.8489 - val_accuracy: 0.8800\n",
            "Epoch 66/100\n",
            "4/4 [==============================] - 0s 26ms/step - loss: 1.6934e-06 - accuracy: 1.0000 - val_loss: 0.8533 - val_accuracy: 0.8800\n",
            "Epoch 67/100\n",
            "4/4 [==============================] - 0s 31ms/step - loss: 1.6016e-06 - accuracy: 1.0000 - val_loss: 0.8558 - val_accuracy: 0.8800\n",
            "Epoch 68/100\n",
            "4/4 [==============================] - 0s 27ms/step - loss: 1.5306e-06 - accuracy: 1.0000 - val_loss: 0.8555 - val_accuracy: 0.8800\n",
            "Epoch 69/100\n",
            "4/4 [==============================] - 0s 29ms/step - loss: 1.4597e-06 - accuracy: 1.0000 - val_loss: 0.8555 - val_accuracy: 0.8800\n",
            "Epoch 70/100\n",
            "4/4 [==============================] - 0s 27ms/step - loss: 1.3953e-06 - accuracy: 1.0000 - val_loss: 0.8607 - val_accuracy: 0.8800\n",
            "Epoch 71/100\n",
            "4/4 [==============================] - 0s 23ms/step - loss: 1.3339e-06 - accuracy: 1.0000 - val_loss: 0.8670 - val_accuracy: 0.8800\n",
            "Epoch 72/100\n",
            "4/4 [==============================] - 0s 27ms/step - loss: 1.2660e-06 - accuracy: 1.0000 - val_loss: 0.8755 - val_accuracy: 0.8800\n",
            "Epoch 73/100\n",
            "4/4 [==============================] - 0s 30ms/step - loss: 1.2237e-06 - accuracy: 1.0000 - val_loss: 0.8836 - val_accuracy: 0.8800\n",
            "Epoch 74/100\n",
            "4/4 [==============================] - 0s 32ms/step - loss: 1.1617e-06 - accuracy: 1.0000 - val_loss: 0.8816 - val_accuracy: 0.8800\n",
            "Epoch 75/100\n",
            "4/4 [==============================] - 0s 25ms/step - loss: 1.1110e-06 - accuracy: 1.0000 - val_loss: 0.8775 - val_accuracy: 0.8800\n",
            "Epoch 76/100\n",
            "4/4 [==============================] - 0s 25ms/step - loss: 1.0699e-06 - accuracy: 1.0000 - val_loss: 0.8773 - val_accuracy: 0.8800\n",
            "Epoch 77/100\n",
            "4/4 [==============================] - 0s 24ms/step - loss: 1.0300e-06 - accuracy: 1.0000 - val_loss: 0.8783 - val_accuracy: 0.8800\n",
            "Epoch 78/100\n",
            "4/4 [==============================] - 0s 27ms/step - loss: 9.8645e-07 - accuracy: 1.0000 - val_loss: 0.8820 - val_accuracy: 0.8800\n",
            "Epoch 79/100\n",
            "4/4 [==============================] - 0s 26ms/step - loss: 9.4235e-07 - accuracy: 1.0000 - val_loss: 0.8856 - val_accuracy: 0.8800\n",
            "Epoch 80/100\n",
            "4/4 [==============================] - 0s 29ms/step - loss: 9.0480e-07 - accuracy: 1.0000 - val_loss: 0.8937 - val_accuracy: 0.8800\n",
            "Epoch 81/100\n",
            "4/4 [==============================] - 0s 39ms/step - loss: 8.7559e-07 - accuracy: 1.0000 - val_loss: 0.8967 - val_accuracy: 0.8800\n",
            "Epoch 82/100\n",
            "4/4 [==============================] - 0s 27ms/step - loss: 8.3387e-07 - accuracy: 1.0000 - val_loss: 0.9021 - val_accuracy: 0.8800\n",
            "Epoch 83/100\n",
            "4/4 [==============================] - 0s 27ms/step - loss: 7.9930e-07 - accuracy: 1.0000 - val_loss: 0.9018 - val_accuracy: 0.8800\n",
            "Epoch 84/100\n",
            "4/4 [==============================] - 0s 26ms/step - loss: 7.6771e-07 - accuracy: 1.0000 - val_loss: 0.9005 - val_accuracy: 0.8800\n",
            "Epoch 85/100\n",
            "4/4 [==============================] - 0s 31ms/step - loss: 7.3910e-07 - accuracy: 1.0000 - val_loss: 0.9014 - val_accuracy: 0.8800\n",
            "Epoch 86/100\n",
            "4/4 [==============================] - 0s 26ms/step - loss: 7.1525e-07 - accuracy: 1.0000 - val_loss: 0.9017 - val_accuracy: 0.8800\n",
            "Epoch 87/100\n",
            "4/4 [==============================] - 0s 29ms/step - loss: 6.8426e-07 - accuracy: 1.0000 - val_loss: 0.9054 - val_accuracy: 0.8800\n",
            "Epoch 88/100\n",
            "4/4 [==============================] - 0s 23ms/step - loss: 6.6042e-07 - accuracy: 1.0000 - val_loss: 0.9100 - val_accuracy: 0.8800\n",
            "Epoch 89/100\n",
            "4/4 [==============================] - 0s 26ms/step - loss: 6.3896e-07 - accuracy: 1.0000 - val_loss: 0.9163 - val_accuracy: 0.8800\n",
            "Epoch 90/100\n",
            "4/4 [==============================] - 0s 22ms/step - loss: 6.1810e-07 - accuracy: 1.0000 - val_loss: 0.9192 - val_accuracy: 0.8800\n",
            "Epoch 91/100\n",
            "4/4 [==============================] - 0s 23ms/step - loss: 5.9664e-07 - accuracy: 1.0000 - val_loss: 0.9244 - val_accuracy: 0.8800\n",
            "Epoch 92/100\n",
            "4/4 [==============================] - 0s 22ms/step - loss: 5.7936e-07 - accuracy: 1.0000 - val_loss: 0.9253 - val_accuracy: 0.8800\n",
            "Epoch 93/100\n",
            "4/4 [==============================] - 0s 24ms/step - loss: 5.6803e-07 - accuracy: 1.0000 - val_loss: 0.9178 - val_accuracy: 0.8800\n",
            "Epoch 94/100\n",
            "4/4 [==============================] - 0s 20ms/step - loss: 5.4836e-07 - accuracy: 1.0000 - val_loss: 0.9163 - val_accuracy: 0.8800\n",
            "Epoch 95/100\n",
            "4/4 [==============================] - 0s 20ms/step - loss: 5.3704e-07 - accuracy: 1.0000 - val_loss: 0.9207 - val_accuracy: 0.8800\n",
            "Epoch 96/100\n",
            "4/4 [==============================] - 0s 22ms/step - loss: 5.2094e-07 - accuracy: 1.0000 - val_loss: 0.9238 - val_accuracy: 0.8800\n",
            "Epoch 97/100\n",
            "4/4 [==============================] - 0s 19ms/step - loss: 5.0902e-07 - accuracy: 1.0000 - val_loss: 0.9227 - val_accuracy: 0.8800\n",
            "Epoch 98/100\n",
            "4/4 [==============================] - 0s 19ms/step - loss: 4.9412e-07 - accuracy: 1.0000 - val_loss: 0.9262 - val_accuracy: 0.8800\n",
            "Epoch 99/100\n",
            "4/4 [==============================] - 0s 24ms/step - loss: 4.8459e-07 - accuracy: 1.0000 - val_loss: 0.9288 - val_accuracy: 0.8800\n",
            "Epoch 100/100\n",
            "4/4 [==============================] - 0s 22ms/step - loss: 4.7028e-07 - accuracy: 1.0000 - val_loss: 0.9318 - val_accuracy: 0.8800\n"
          ]
        }
      ]
    },
    {
      "cell_type": "code",
      "source": [
        "model.evaluate(x_test, Y_test, batch_size = 1)"
      ],
      "metadata": {
        "colab": {
          "base_uri": "https://localhost:8080/"
        },
        "id": "PdSD6E16rm6m",
        "outputId": "1d93b7ac-d8fd-4b62-ddd4-c066ef855a44"
      },
      "execution_count": 9,
      "outputs": [
        {
          "output_type": "stream",
          "name": "stdout",
          "text": [
            "110/110 [==============================] - 0s 3ms/step - loss: 0.5645 - accuracy: 0.8909\n"
          ]
        },
        {
          "output_type": "execute_result",
          "data": {
            "text/plain": [
              "[0.5645157098770142, 0.8909090757369995]"
            ]
          },
          "metadata": {},
          "execution_count": 9
        }
      ]
    },
    {
      "cell_type": "code",
      "metadata": {
        "colab": {
          "base_uri": "https://localhost:8080/",
          "height": 467
        },
        "id": "6plyeijg3KpF",
        "outputId": "455bf8a7-9302-4184-d486-ea316c1e18d9"
      },
      "source": [
        "# plot training loss and training accuracy vs epoch number\n",
        "plt.plot(history.history['loss'], history.epoch)\n",
        "plt.xlabel(\"Epoch\")\n",
        "plt.ylabel(\"Loss\")\n",
        "plt.plot(history.history['val_loss'], history.epoch)\n",
        " # Plot loss and val_loss + accuracy and val_accuracy seperately"
      ],
      "execution_count": 10,
      "outputs": [
        {
          "output_type": "execute_result",
          "data": {
            "text/plain": [
              "[<matplotlib.lines.Line2D at 0x7c3d1ff603a0>]"
            ]
          },
          "metadata": {},
          "execution_count": 10
        },
        {
          "output_type": "display_data",
          "data": {
            "text/plain": [
              "<Figure size 640x480 with 1 Axes>"
            ],
            "image/png": "[encoded data removed]"
          },
          "metadata": {}
        }
      ]
    },
    {
      "cell_type": "code",
      "source": [
        "plt.plot(history.history['accuracy'], history.epoch)\n",
        "plt.xlabel(\"Epoch\")\n",
        "plt.ylabel(\"Accuracy\")"
      ],
      "metadata": {
        "colab": {
          "base_uri": "https://localhost:8080/",
          "height": 467
        },
        "id": "QKME6mB9KgRh",
        "outputId": "ee275544-7d1e-4d8b-b5e4-39d9aa89bcbd"
      },
      "execution_count": 11,
      "outputs": [
        {
          "output_type": "execute_result",
          "data": {
            "text/plain": [
              "Text(0, 0.5, 'Accuracy')"
            ]
          },
          "metadata": {},
          "execution_count": 11
        },
        {
          "output_type": "display_data",
          "data": {
            "text/plain": [
              "<Figure size 640x480 with 1 Axes>"
            ],
            "image/png": "[encoded data removed]"
          },
          "metadata": {}
        }
      ]
    }
  ]
}